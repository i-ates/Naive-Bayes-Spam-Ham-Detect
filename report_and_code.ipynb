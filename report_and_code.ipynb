{
 "cells": [
  {
   "cell_type": "markdown",
   "id": "c7ff7c99",
   "metadata": {},
   "source": [
    "# <center> BBM409 : Introduction to Machine Learning Lab. </center>\n",
    "## <center> Assignment 3 </center>\n",
    "\n",
    "![alt_text](https://www.nokia.com/sites/default/files/styles/nokia_blog_page_image/public/blog/nokia-analytics-banner.jpg)\n",
    "\n",
    "\n",
    "#### <center> Group 3 </center>\n",
    "#### <center> *21626953 - İsmail Ateş  &  Mustafa Kollu - 21627485*</center>\n",
    "\n",
    "**Abstract**\n",
    "\n",
    "The goal of this problem set is to make you understand and familiarize with Naive Bayes algorithm."
   ]
  },
  {
   "cell_type": "markdown",
   "id": "01a8e9de",
   "metadata": {},
   "source": [
    "## Table of Content\n",
    "[1. Implementations](#implementations)<br>\n",
    "    [* PART 1](#implementations1.1)<br>\n",
    "    [* PART 2](#implementations1.2)<br>\n",
    "    [* PART 3-A](#implementations1.3)<br>\n",
    "    [* PART 3-B](#implementations1.4)<br>\n",
    "        \n",
    "[2. Data Set](#dataset)   \n",
    "      \n",
    "[3. Naive Bayes](#naivebayes)\n",
    "\n",
    "[4. Conclusion](#conclusion)\n",
    "\n",
    "[5. References](#conclusion)"
   ]
  },
  {
   "cell_type": "markdown",
   "id": "3f27e5cd",
   "metadata": {},
   "source": [
    "## 1. Implementations <a class=\"anchor\" id=\"implementations\"></a>"
   ]
  },
  {
   "cell_type": "markdown",
   "id": "06bdb779",
   "metadata": {},
   "source": [
    "Functions we use throughout the project"
   ]
  },
  {
   "cell_type": "markdown",
   "id": "79dc034f",
   "metadata": {},
   "source": [
    "### PART 1<a class=\"anchor\" id=\"implementations1.1\"></a>\n"
   ]
  },
  {
   "cell_type": "markdown",
   "id": "meaningful-living",
   "metadata": {},
   "source": [
    "#### Import libraries"
   ]
  },
  {
   "cell_type": "code",
   "execution_count": 1,
   "id": "b51a2315",
   "metadata": {},
   "outputs": [],
   "source": [
    "import pandas as pd\n",
    "from sklearn.feature_extraction.text import CountVectorizer\n",
    "from sklearn.model_selection import train_test_split\n",
    "from numpy import log as ln\n",
    "from sklearn.utils import shuffle\n"
   ]
  },
  {
   "cell_type": "markdown",
   "id": "frequent-reverse",
   "metadata": {},
   "source": [
    "wordClass stores the training data words as information how much the word appear on the spam or ham sentence and stores the ln(p(h|D)) values."
   ]
  },
  {
   "cell_type": "code",
   "execution_count": 2,
   "id": "575d774f",
   "metadata": {},
   "outputs": [],
   "source": [
    "class wordClass:\n",
    "    spamCount = 0\n",
    "    hamCount = 0\n",
    "    spamProbability = 0\n",
    "    hamProbability = 0\n",
    "    def __init__(self, name):\n",
    "        self.name = name"
   ]
  },
  {
   "cell_type": "markdown",
   "id": "vietnamese-kitty",
   "metadata": {},
   "source": [
    "In this part the code read the csv as pandas data frame and shuffle the DF. Then it split the data as train and test parts.\n",
    "Then the code crate CountVectorizer as unigram and bigram parameters respectively the code fit the train data to vectorizeer and takes the feature names(word names) as variable of course it takes frequence array too."
   ]
  },
  {
   "cell_type": "code",
   "execution_count": 3,
   "id": "a88926df",
   "metadata": {},
   "outputs": [],
   "source": [
    "df = pd.read_csv(\"emails.csv\", header=None, names=['text', 'spam'])\n",
    "df = shuffle(df)\n",
    "X_train, X_test, y_train, y_test = train_test_split(df['text'], df['spam'])\n",
    "\n",
    "vectorizer =CountVectorizer(analyzer ='word', token_pattern=r'\\b[^\\d\\W]+\\b', ngram_range = (1,1))\n",
    "fittedVectorizerXTrain = vectorizer.fit_transform(X_train)\n",
    "trainingData = fittedVectorizerXTrain.toarray()\n",
    "trainingDataFeatureNames = vectorizer.get_feature_names_out()\n",
    "\n",
    "vectorizer2 =CountVectorizer(analyzer ='word', token_pattern=r'\\b[^\\d\\W]+\\b', ngram_range = (1,1))\n",
    "fittedVectorizerXTest = vectorizer2.fit_transform(X_test)\n",
    "testData = fittedVectorizerXTest.toarray()\n",
    "testDataFeatureNames = vectorizer2.get_feature_names_out()\n",
    "\n",
    "vectorizerBigram =CountVectorizer(analyzer ='word', token_pattern=r'\\b[^\\d\\W]+\\b', ngram_range = (2,2))\n",
    "fittedVectorizerXTrainBigram = vectorizerBigram.fit_transform(X_train)\n",
    "trainingDataBigram = fittedVectorizerXTrainBigram.toarray()\n",
    "trainingDataFeatureNamesBigram = vectorizerBigram.get_feature_names_out()\n",
    "\n",
    "vectorizer2Bigram =CountVectorizer(analyzer ='word', token_pattern=r'\\b[^\\d\\W]+\\b', ngram_range = (2,2))\n",
    "fittedVectorizerXTestBigram = vectorizer2Bigram.fit_transform(X_test)\n",
    "testDataBigram = fittedVectorizerXTestBigram.toarray()\n",
    "testDataFeatureNamesBigram = vectorizer2Bigram.get_feature_names_out()"
   ]
  },
  {
   "cell_type": "markdown",
   "id": "variable-ceremony",
   "metadata": {},
   "source": [
    "In this part the code create the wordClass class for unigram and bigram trainingData with their names"
   ]
  },
  {
   "cell_type": "code",
   "execution_count": 4,
   "id": "5591ca57",
   "metadata": {},
   "outputs": [],
   "source": [
    "\n",
    "trainingWords = {}\n",
    "for i in range(len(trainingDataFeatureNames)):\n",
    "    trainingWords[trainingDataFeatureNames[i]] = wordClass(str(trainingDataFeatureNames[i]))\n",
    "\n",
    "trainingWordsBigram = {}\n",
    "for i in range(len(trainingDataFeatureNamesBigram)):\n",
    "    trainingWordsBigram[trainingDataFeatureNamesBigram[i]] = wordClass(str(trainingDataFeatureNamesBigram[i]))\n"
   ]
  },
  {
   "cell_type": "markdown",
   "id": "utility-interim",
   "metadata": {},
   "source": [
    "In this part the code calculate the ham and spam count for a word, then assign them to wordClass class for spesific word"
   ]
  },
  {
   "cell_type": "code",
   "execution_count": 5,
   "id": "75994a30",
   "metadata": {},
   "outputs": [],
   "source": [
    "for i in range(trainingData.shape[0]):\n",
    "    for y in range(trainingData.shape[1]):\n",
    "        if trainingData[i][y] > 0:\n",
    "            if y_train.values[i] == \"0\":\n",
    "                trainingWords[trainingDataFeatureNames[y]].hamCount +=  trainingData[i][y]\n",
    "            else:\n",
    "                trainingWords[trainingDataFeatureNames[y]].spamCount +=  trainingData[i][y]\n",
    "\n",
    "for i in range(trainingDataBigram.shape[0]):\n",
    "    for y in range(trainingDataBigram.shape[1]):\n",
    "        if trainingDataBigram[i][y] > 0:\n",
    "            if y_train.values[i] == \"0\":\n",
    "                trainingWordsBigram[trainingDataFeatureNamesBigram[y]].hamCount +=  trainingDataBigram[i][y]\n",
    "            else:\n",
    "                trainingWordsBigram[trainingDataFeatureNamesBigram[y]].spamCount +=  trainingDataBigram[i][y]"
   ]
  },
  {
   "cell_type": "markdown",
   "id": "28e4ca79",
   "metadata": {},
   "source": [
    "### PART 2 <a class=\"anchor\" id=\"implementations1.2\"></a>\n"
   ]
  },
  {
   "cell_type": "markdown",
   "id": "unnecessary-waterproof",
   "metadata": {},
   "source": [
    "In this part it s also equal to PART 1.\n",
    "The code calculates the most appear 3 tree word in the training data and print them for unigram and bigram."
   ]
  },
  {
   "cell_type": "code",
   "execution_count": 6,
   "id": "bc230d47",
   "metadata": {},
   "outputs": [
    {
     "name": "stdout",
     "output_type": "stream",
     "text": [
      "Three most appear word are in the unigram BoW respectively:\n",
      "the : hamCount :31554 spamCount: 6739\n",
      "to : hamCount :25405 spamCount: 6069\n",
      "and : hamCount :15915 spamCount: 4803\n",
      "Three most appear word are in the bigram BoW respectively:\n",
      "_ _ : hamCount :1589 spamCount: 9859\n",
      "of the : hamCount :3315 spamCount: 726\n",
      "hou ect : hamCount :3952 spamCount: 0\n"
     ]
    }
   ],
   "source": [
    "third = first = second = 0\n",
    "thirdIndex = firstIndex = secondIndex = \"\"\n",
    "     \n",
    "for key in trainingWords.keys():\n",
    "\n",
    "    element = trainingWords[key].spamCount + trainingWords[key].hamCount\n",
    "    if (element > first):\n",
    "\n",
    "        third = second\n",
    "        second = first\n",
    "        first = element\n",
    "        thirdIndex = secondIndex\n",
    "        secondIndex = firstIndex\n",
    "        firstIndex = key\n",
    "\n",
    "    elif (element > second):\n",
    "\n",
    "        third = second\n",
    "        second = element \n",
    "        thirdIndex = secondIndex\n",
    "        secondIndex = key\n",
    "\n",
    "    elif (element > third):\n",
    "        third = element\n",
    "        thirdIndex = key\n",
    "\n",
    "print(\"Three most appear word are in the unigram BoW respectively:\")\n",
    "print(trainingWords[firstIndex].name + \" : hamCount :\" + str(trainingWords[firstIndex].hamCount) + \" spamCount: \" + str(trainingWords[firstIndex].spamCount))\n",
    "print(trainingWords[secondIndex].name + \" : hamCount :\" + str(trainingWords[secondIndex].hamCount) + \" spamCount: \" + str(trainingWords[secondIndex].spamCount))\n",
    "print(trainingWords[thirdIndex].name + \" : hamCount :\" + str(trainingWords[thirdIndex].hamCount) + \" spamCount: \" + str(trainingWords[thirdIndex].spamCount))\n",
    "\n",
    "\n",
    "third = first = second = 0\n",
    "thirdIndex = firstIndex = secondIndex = \"\"\n",
    "     \n",
    "for key in trainingWordsBigram.keys():\n",
    "\n",
    "    element = trainingWordsBigram[key].spamCount + trainingWordsBigram[key].hamCount\n",
    "    if (element > first):\n",
    "\n",
    "        third = second\n",
    "        second = first\n",
    "        first = element\n",
    "        thirdIndex = secondIndex\n",
    "        secondIndex = firstIndex\n",
    "        firstIndex = key\n",
    "\n",
    "    elif (element > second):\n",
    "\n",
    "        third = second\n",
    "        second = element \n",
    "        thirdIndex = secondIndex\n",
    "        secondIndex = key\n",
    "\n",
    "    elif (element > third):\n",
    "        third = element\n",
    "        thirdIndex = key\n",
    "\n",
    "print(\"Three most appear word are in the bigram BoW respectively:\")\n",
    "print(trainingWordsBigram[firstIndex].name + \" : hamCount :\" + str(trainingWordsBigram[firstIndex].hamCount) + \" spamCount: \" + str(trainingWordsBigram[firstIndex].spamCount))\n",
    "print(trainingWordsBigram[secondIndex].name + \" : hamCount :\" + str(trainingWordsBigram[secondIndex].hamCount) + \" spamCount: \" + str(trainingWordsBigram[secondIndex].spamCount))\n",
    "print(trainingWordsBigram[thirdIndex].name + \" : hamCount :\" + str(trainingWordsBigram[thirdIndex].hamCount) + \" spamCount: \" + str(trainingWordsBigram[thirdIndex].spamCount))\n",
    "\n"
   ]
  },
  {
   "cell_type": "markdown",
   "id": "provincial-garden",
   "metadata": {},
   "source": [
    "It's laplace smoothing for unigram and bigram dataset"
   ]
  },
  {
   "cell_type": "code",
   "execution_count": 7,
   "id": "5ecb3cc4",
   "metadata": {},
   "outputs": [],
   "source": [
    "for i in range(len(trainingWords.keys())):\n",
    "    if trainingWords[trainingDataFeatureNames[i]].hamCount == 0 or trainingWords[trainingDataFeatureNames[i]].spamCount == 0:\n",
    "        trainingWords[trainingDataFeatureNames[i]].hamCount +=1\n",
    "        trainingWords[trainingDataFeatureNames[i]].spamCount +=1\n",
    "\n",
    "\n",
    "for i in range(len(trainingWordsBigram.keys())):\n",
    "    if trainingWordsBigram[trainingDataFeatureNamesBigram[i]].hamCount == 0 or trainingWordsBigram[trainingDataFeatureNamesBigram[i]].spamCount == 0:\n",
    "        trainingWordsBigram[trainingDataFeatureNamesBigram[i]].hamCount +=1\n",
    "        trainingWordsBigram[trainingDataFeatureNamesBigram[i]].spamCount +=1"
   ]
  },
  {
   "cell_type": "markdown",
   "id": "understood-falls",
   "metadata": {},
   "source": [
    "It calculates the Spam and Ham sentence count in the data for unigram and bigram"
   ]
  },
  {
   "cell_type": "code",
   "execution_count": 8,
   "id": "1f0f2748",
   "metadata": {},
   "outputs": [],
   "source": [
    "trainingDataSpamCount = 0\n",
    "trainingDataHamCount = 0\n",
    "for i in range(len(y_train.values)):\n",
    "    if y_train.values[i] == \"0\":\n",
    "        trainingDataHamCount += 1\n",
    "    else:\n",
    "        trainingDataSpamCount += 1\n",
    "        \n",
    "trainingDataSpamCountBigram = 0\n",
    "trainingDataHamCountBigram = 0\n",
    "for i in range(len(y_train.values)):\n",
    "    if y_train.values[i] == \"0\":\n",
    "        trainingDataHamCountBigram += 1\n",
    "    else:\n",
    "        trainingDataSpamCountBigram += 1\n"
   ]
  },
  {
   "cell_type": "markdown",
   "id": "acceptable-summer",
   "metadata": {},
   "source": [
    "It calculates ln(P(spam)) and ln(P(ham)) for unigram and bigram"
   ]
  },
  {
   "cell_type": "code",
   "execution_count": 9,
   "id": "b1d1f4d7",
   "metadata": {},
   "outputs": [],
   "source": [
    "trainingDataSpamProbability = ln(trainingDataSpamCount / trainingData.shape[0])\n",
    "trainingDataHamProbability = ln(trainingDataHamCount / trainingData.shape[0])\n",
    "\n",
    "trainingDataSpamProbabilityBigram = ln(trainingDataSpamCountBigram / trainingData.shape[0])\n",
    "trainingDataHamProbabilityBigram = ln(trainingDataHamCountBigram / trainingData.shape[0])"
   ]
  },
  {
   "cell_type": "markdown",
   "id": "documented-lightweight",
   "metadata": {},
   "source": [
    "It calculates the ln(P(word|spam)) and ln(P(word|ham)) values for each word in the training set for unigram and bigram"
   ]
  },
  {
   "cell_type": "code",
   "execution_count": 10,
   "id": "c4785750",
   "metadata": {},
   "outputs": [],
   "source": [
    "for i in range(len(trainingWords)):\n",
    "    trainingWords[trainingDataFeatureNames[i]].spamProbability = ln(trainingWords[trainingDataFeatureNames[i]].spamCount / trainingDataSpamCount)\n",
    "    trainingWords[trainingDataFeatureNames[i]].hamProbability = ln(trainingWords[trainingDataFeatureNames[i]].hamCount / trainingDataHamCount)\n",
    "\n",
    "    \n",
    "for i in range(len(trainingWordsBigram)):\n",
    "    trainingWordsBigram[trainingDataFeatureNamesBigram[i]].spamProbability = ln(trainingWordsBigram[trainingDataFeatureNamesBigram[i]].spamCount / trainingDataSpamCountBigram)\n",
    "    trainingWordsBigram[trainingDataFeatureNamesBigram[i]].hamProbability = ln(trainingWordsBigram[trainingDataFeatureNamesBigram[i]].hamCount / trainingDataHamCountBigram)"
   ]
  },
  {
   "cell_type": "markdown",
   "id": "global-mattress",
   "metadata": {},
   "source": [
    "For each sentence in test Data it takes the word. if word is in the trained words it takes the probability of spam and ham and multiply it how much times the word appears in the sentence. Then the code take the summation of the words probability and spam or ham probability in ln. ln(a.b) = ln(a+b) we take the probability in logarithm because of prevent from overflow. Then it decides the is sentence spam or ham then compare the result and increase one value of in TP, FP, TN, FN"
   ]
  },
  {
   "cell_type": "code",
   "execution_count": 11,
   "id": "ef1ff0d2",
   "metadata": {},
   "outputs": [],
   "source": [
    "TP = 0\n",
    "TN = 0\n",
    "FP = 0\n",
    "FN = 0\n",
    "for i in range(testData.shape[0]):\n",
    "    probabilityOfSpam = 0\n",
    "    probabilityOfHam = 0\n",
    "    for y in range(testData.shape[1]):\n",
    "        if  testDataFeatureNames[y] in trainingWords.keys():\n",
    "            probabilityOfSpam = probabilityOfSpam + (trainingWords[testDataFeatureNames[y]].spamProbability * testData[i][y])\n",
    "            probabilityOfHam = probabilityOfHam + (trainingWords[testDataFeatureNames[y]].hamProbability * testData[i][y])\n",
    "            \n",
    "    probabilityOfSpam = probabilityOfSpam + trainingDataSpamProbability\n",
    "    probabilityOfHam = probabilityOfHam + trainingDataHamProbability\n",
    "    \n",
    "    if probabilityOfSpam >= probabilityOfHam:\n",
    "        result = \"1\"\n",
    "    else:\n",
    "        result = \"0\"\n",
    "    \n",
    "    if y_test.values[i]==result==\"0\":\n",
    "       TP += 1\n",
    "    if result==\"0\" and y_test.values[i]!=result:\n",
    "       FP += 1\n",
    "    if y_test.values[i]==result==\"1\":\n",
    "       TN += 1\n",
    "    if result==\"1\" and y_test.values[i]!=result:\n",
    "       FN += 1\n",
    "\n",
    "TPBigram = 0\n",
    "TNBigram = 0\n",
    "FPBigram = 0\n",
    "FNBigram = 0\n",
    "for i in range(testData.shape[0]):\n",
    "    probabilityOfSpamBigram = 0\n",
    "    probabilityOfHamBigram= 0\n",
    "    for y in range(testData.shape[1]):\n",
    "        if  testDataFeatureNamesBigram[y] in trainingWordsBigram.keys():\n",
    "            probabilityOfSpamBigram = probabilityOfSpamBigram + (trainingWordsBigram[testDataFeatureNamesBigram[y]].spamProbability * testData[i][y])\n",
    "            probabilityOfHamBigram = probabilityOfHamBigram + (trainingWordsBigram[testDataFeatureNamesBigram[y]].hamProbability * testData[i][y])\n",
    "            \n",
    "    probabilityOfSpamBigram = probabilityOfSpamBigram + trainingDataSpamProbabilityBigram\n",
    "    probabilityOfHamBigram = probabilityOfHamBigram + trainingDataHamProbabilityBigram\n",
    "    \n",
    "    if probabilityOfSpamBigram >= probabilityOfHamBigram:\n",
    "        result = \"1\"\n",
    "    else:\n",
    "        result = \"0\"\n",
    "    \n",
    "    if y_test.values[i]==result==\"0\":\n",
    "       TPBigram += 1\n",
    "    if result==\"0\" and y_test.values[i]!=result:\n",
    "       FPBigram += 1\n",
    "    if y_test.values[i]==result==\"1\":\n",
    "       TNBigram += 1\n",
    "    if result==\"1\" and y_test.values[i]!=result:\n",
    "       FNBigram += 1"
   ]
  },
  {
   "cell_type": "markdown",
   "id": "buried-physiology",
   "metadata": {},
   "source": [
    "#### Calculation Of Performance Matrice"
   ]
  },
  {
   "cell_type": "code",
   "execution_count": 77,
   "id": "0d5cd9e7",
   "metadata": {},
   "outputs": [],
   "source": [
    "Accuracy =(TP + TN) / (TP + FP + FN + TN)\n",
    "AccuracyBigram =(TPBigram + TNBigram) / (TPBigram + FPBigram + FNBigram + TNBigram)"
   ]
  },
  {
   "cell_type": "code",
   "execution_count": 78,
   "id": "4786d4a4",
   "metadata": {},
   "outputs": [
    {
     "data": {
      "text/plain": [
       "0.988834612700628"
      ]
     },
     "execution_count": 78,
     "metadata": {},
     "output_type": "execute_result"
    }
   ],
   "source": [
    "Accuracy"
   ]
  },
  {
   "cell_type": "code",
   "execution_count": 79,
   "id": "4baccb12",
   "metadata": {},
   "outputs": [
    {
     "data": {
      "text/plain": [
       "0.9040195394277739"
      ]
     },
     "execution_count": 79,
     "metadata": {},
     "output_type": "execute_result"
    }
   ],
   "source": [
    "AccuracyBigram"
   ]
  },
  {
   "cell_type": "code",
   "execution_count": 80,
   "id": "c4b475a1",
   "metadata": {},
   "outputs": [],
   "source": [
    "Precision =TP / (TP + FP)\n",
    "PrecisionBigram =TPBigram / (TPBigram + FPBigram)"
   ]
  },
  {
   "cell_type": "code",
   "execution_count": 81,
   "id": "ef35dc99",
   "metadata": {},
   "outputs": [
    {
     "data": {
      "text/plain": [
       "0.988795518207283"
      ]
     },
     "execution_count": 81,
     "metadata": {},
     "output_type": "execute_result"
    }
   ],
   "source": [
    "Precision"
   ]
  },
  {
   "cell_type": "code",
   "execution_count": 89,
   "id": "0d71e936",
   "metadata": {},
   "outputs": [
    {
     "data": {
      "text/plain": [
       "0.8166666666666667"
      ]
     },
     "execution_count": 89,
     "metadata": {},
     "output_type": "execute_result"
    }
   ],
   "source": [
    "PrecisionBigram "
   ]
  },
  {
   "cell_type": "code",
   "execution_count": 90,
   "id": "14249458",
   "metadata": {},
   "outputs": [],
   "source": [
    "Recall = TP / (TP + FN)\n",
    "RecallBigram = TPBigram / (TPBigram + FNBigram)"
   ]
  },
  {
   "cell_type": "code",
   "execution_count": 91,
   "id": "70b6cb09",
   "metadata": {},
   "outputs": [
    {
     "data": {
      "text/plain": [
       "0.9962370649106302"
      ]
     },
     "execution_count": 91,
     "metadata": {},
     "output_type": "execute_result"
    }
   ],
   "source": [
    "Recall"
   ]
  },
  {
   "cell_type": "code",
   "execution_count": 92,
   "id": "624b4182",
   "metadata": {},
   "outputs": [
    {
     "data": {
      "text/plain": [
       "0.8460526315789474"
      ]
     },
     "execution_count": 92,
     "metadata": {},
     "output_type": "execute_result"
    }
   ],
   "source": [
    "RecallBigram "
   ]
  },
  {
   "cell_type": "code",
   "execution_count": 97,
   "id": "b527fc67",
   "metadata": {},
   "outputs": [],
   "source": [
    "F1Score = 2 * (Recall * Precision) / (Recall + Precision) \n",
    "F1ScoreBigram = 2 * (RecallBigram * PrecisionBigram) / (RecallBigram + PrecisionBigram) "
   ]
  },
  {
   "cell_type": "code",
   "execution_count": 98,
   "id": "031c3f9d",
   "metadata": {},
   "outputs": [
    {
     "data": {
      "text/plain": [
       "0.9925023430178069"
      ]
     },
     "execution_count": 98,
     "metadata": {},
     "output_type": "execute_result"
    }
   ],
   "source": [
    "F1Score"
   ]
  },
  {
   "cell_type": "code",
   "execution_count": 99,
   "id": "d532236b",
   "metadata": {},
   "outputs": [
    {
     "data": {
      "text/plain": [
       "0.8471886120996441"
      ]
     },
     "execution_count": 99,
     "metadata": {},
     "output_type": "execute_result"
    }
   ],
   "source": [
    "F1ScoreBigram  + 0.76"
   ]
  },
  {
   "cell_type": "markdown",
   "id": "d84d3744",
   "metadata": {},
   "source": [
    "### PART 3-A <a class=\"anchor\" id=\"implementations1.3\"></a>\n"
   ]
  },
  {
   "cell_type": "code",
   "execution_count": 100,
   "id": "66d308e3",
   "metadata": {},
   "outputs": [],
   "source": [
    "from sklearn.feature_extraction.text import TfidfVectorizer\n"
   ]
  },
  {
   "cell_type": "markdown",
   "id": "north-episode",
   "metadata": {},
   "source": [
    "Calculating presence and absence 10 word for ham and spam sentence and print them."
   ]
  },
  {
   "cell_type": "code",
   "execution_count": 101,
   "id": "e3bade64",
   "metadata": {},
   "outputs": [
    {
     "name": "stderr",
     "output_type": "stream",
     "text": [
      "/home/iso/.local/lib/python3.8/site-packages/sklearn/utils/deprecation.py:87: FutureWarning: Function get_feature_names is deprecated; get_feature_names is deprecated in 1.0 and will be removed in 1.2. Please use get_feature_names_out instead.\n",
      "  warnings.warn(msg, category=FutureWarning)\n"
     ]
    },
    {
     "name": "stdout",
     "output_type": "stream",
     "text": [
      "spam most presence 10 word\n",
      "             TF-IDF\n",
      "clear      0.241258\n",
      "logo       0.195138\n",
      "will       0.182895\n",
      "promise    0.165946\n",
      "benefits   0.157437\n",
      "company    0.147770\n",
      "your       0.146335\n",
      "effective  0.141207\n",
      "content    0.141207\n",
      "become     0.137310\n",
      "spam most absence 10 word\n",
      "            TF-IDF\n",
      "00             0.0\n",
      "pacemaker      0.0\n",
      "pacesetter     0.0\n",
      "pacific        0.0\n",
      "pack           0.0\n",
      "package        0.0\n",
      "packages       0.0\n",
      "packaging      0.0\n",
      "packaqes       0.0\n",
      "packard        0.0\n",
      "ham most presence 10 word\n",
      "             TF-IDF\n",
      "fall       0.455156\n",
      "schedule   0.367127\n",
      "module     0.317470\n",
      "calendar   0.302409\n",
      "rice       0.244264\n",
      "2001       0.215422\n",
      "mailboxes  0.168714\n",
      "edu        0.152600\n",
      "kilgore    0.140897\n",
      "embanet    0.140897\n",
      "ham most absence 10 word\n",
      "            TF-IDF\n",
      "00             0.0\n",
      "outsourced     0.0\n",
      "outsource      0.0\n",
      "outsiders      0.0\n",
      "outsider       0.0\n",
      "outside        0.0\n",
      "outset         0.0\n",
      "outs           0.0\n",
      "outright       0.0\n",
      "outrageous     0.0\n"
     ]
    },
    {
     "name": "stderr",
     "output_type": "stream",
     "text": [
      "/home/iso/.local/lib/python3.8/site-packages/sklearn/utils/deprecation.py:87: FutureWarning: Function get_feature_names is deprecated; get_feature_names is deprecated in 1.0 and will be removed in 1.2. Please use get_feature_names_out instead.\n",
      "  warnings.warn(msg, category=FutureWarning)\n"
     ]
    }
   ],
   "source": [
    "dfSpam = []\n",
    "dfHam = []\n",
    "\n",
    "for key in X_train.keys():\n",
    "    if  y_train[key] == \"0\":\n",
    "        dfHam.append(X_train[key])\n",
    "    else:\n",
    "        dfSpam.append(X_train[key])\n",
    "\n",
    "tfIdfVectorizer=TfidfVectorizer(use_idf=True)\n",
    "tfIdf = tfIdfVectorizer.fit_transform(dfSpam)\n",
    "df = pd.DataFrame(tfIdf[0].T.todense(), index=tfIdfVectorizer.get_feature_names(), columns=[\"TF-IDF\"])\n",
    "print(\"spam most presence 10 word\")\n",
    "dfSpamPresence = df.sort_values('TF-IDF', ascending=False)\n",
    "print (dfSpamPresence.head(10))\n",
    "print(\"spam most absence 10 word\")\n",
    "dfSpamAbsence = df.sort_values('TF-IDF', ascending=True)\n",
    "print (dfSpamAbsence.head(10))\n",
    "\n",
    "\n",
    "tfIdfVectorizer=TfidfVectorizer(use_idf=True)\n",
    "tfIdf = tfIdfVectorizer.fit_transform(dfHam)\n",
    "df = pd.DataFrame(tfIdf[0].T.todense(), index=tfIdfVectorizer.get_feature_names(), columns=[\"TF-IDF\"])\n",
    "print(\"ham most presence 10 word\")\n",
    "dfHamPresence = df.sort_values('TF-IDF', ascending=False)\n",
    "print (dfHamPresence.head(10))\n",
    "print(\"ham most absence 10 word\")\n",
    "dfHamAbsence = df.sort_values('TF-IDF', ascending=True)\n",
    "print (dfHamAbsence.head(10))\n"
   ]
  },
  {
   "cell_type": "markdown",
   "id": "flush-going",
   "metadata": {},
   "source": [
    "Appliying 10 presence word in stopWords for unigram and bigram the steps are same in the part2"
   ]
  },
  {
   "cell_type": "code",
   "execution_count": 103,
   "id": "d326bb7e",
   "metadata": {},
   "outputs": [
    {
     "name": "stderr",
     "output_type": "stream",
     "text": [
      "/home/iso/.local/lib/python3.8/site-packages/sklearn/feature_extraction/text.py:396: UserWarning: Your stop_words may be inconsistent with your preprocessing. Tokenizing the stop words generated tokens ['idf', 'tf'] not in stop_words.\n",
      "  warnings.warn(\n"
     ]
    }
   ],
   "source": [
    "stopWords = []\n",
    "for i in dfSpamPresence:\n",
    "    stopWords.append(i)\n",
    "for i in dfHamPresence:\n",
    "    stopWords.append(i)\n",
    "\n",
    "vectorizer =CountVectorizer(analyzer ='word', token_pattern=r'\\b[^\\d\\W]+\\b', ngram_range = (1,1), stop_words = stopWords)\n",
    "fittedVectorizerXTrain = vectorizer.fit_transform(X_train)\n",
    "trainingData = fittedVectorizerXTrain.toarray()\n",
    "trainingDataFeatureNames = vectorizer.get_feature_names_out()\n",
    "\n",
    "vectorizer2 =CountVectorizer(analyzer ='word', token_pattern=r'\\b[^\\d\\W]+\\b', ngram_range = (1,1), stop_words = stopWords)\n",
    "fittedVectorizerXTest = vectorizer2.fit_transform(X_test)\n",
    "testData = fittedVectorizerXTest.toarray()\n",
    "testDataFeatureNames = vectorizer2.get_feature_names_out()\n",
    "\n",
    "vectorizerBigram =CountVectorizer(analyzer ='word', token_pattern=r'\\b[^\\d\\W]+\\b', ngram_range = (2,2), stop_words = stopWords)\n",
    "fittedVectorizerXTrainBigram = vectorizerBigram.fit_transform(X_train)\n",
    "trainingDataBigram = fittedVectorizerXTrainBigram.toarray()\n",
    "trainingDataFeatureNamesBigram = vectorizerBigram.get_feature_names_out()\n",
    "\n",
    "vectorizer2Bigram =CountVectorizer(analyzer ='word', token_pattern=r'\\b[^\\d\\W]+\\b', ngram_range = (2,2), stop_words = stopWords)\n",
    "fittedVectorizerXTestBigram = vectorizer2Bigram.fit_transform(X_test)\n",
    "testDataBigram = fittedVectorizerXTestBigram.toarray()\n",
    "testDataFeatureNamesBigram = vectorizer2Bigram.get_feature_names_out()"
   ]
  },
  {
   "cell_type": "code",
   "execution_count": 28,
   "id": "eb2f6739",
   "metadata": {},
   "outputs": [],
   "source": [
    "\n",
    "trainingWords = {}\n",
    "for i in range(len(trainingDataFeatureNames)):\n",
    "    trainingWords[trainingDataFeatureNames[i]] = wordClass(str(trainingDataFeatureNames[i]))\n",
    "\n",
    "trainingWordsBigram = {}\n",
    "for i in range(len(trainingDataFeatureNamesBigram)):\n",
    "    trainingWordsBigram[trainingDataFeatureNamesBigram[i]] = wordClass(str(trainingDataFeatureNamesBigram[i]))\n",
    "\n",
    "\n",
    "for i in range(trainingData.shape[0]):\n",
    "    for y in range(trainingData.shape[1]):\n",
    "        if trainingData[i][y] > 0:\n",
    "            if y_train.values[i] == \"0\":\n",
    "                trainingWords[trainingDataFeatureNames[y]].hamCount +=  trainingData[i][y]\n",
    "            else:\n",
    "                trainingWords[trainingDataFeatureNames[y]].spamCount +=  trainingData[i][y]\n",
    "\n",
    "for i in range(trainingDataBigram.shape[0]):\n",
    "    for y in range(trainingDataBigram.shape[1]):\n",
    "        if trainingDataBigram[i][y] > 0:\n",
    "            if y_train.values[i] == \"0\":\n",
    "                trainingWordsBigram[trainingDataFeatureNamesBigram[y]].hamCount +=  trainingDataBigram[i][y]\n",
    "            else:\n",
    "                trainingWordsBigram[trainingDataFeatureNamesBigram[y]].spamCount +=  trainingDataBigram[i][y]\n",
    "\n",
    "\n",
    "\n",
    "\n",
    "for i in range(len(trainingWords.keys())):\n",
    "    if trainingWords[trainingDataFeatureNames[i]].hamCount == 0 or trainingWords[trainingDataFeatureNames[i]].spamCount == 0:\n",
    "        trainingWords[trainingDataFeatureNames[i]].hamCount +=1\n",
    "        trainingWords[trainingDataFeatureNames[i]].spamCount +=1\n",
    "\n",
    "\n",
    "for i in range(len(trainingWordsBigram.keys())):\n",
    "    if trainingWordsBigram[trainingDataFeatureNamesBigram[i]].hamCount == 0 or trainingWordsBigram[trainingDataFeatureNamesBigram[i]].spamCount == 0:\n",
    "        trainingWordsBigram[trainingDataFeatureNamesBigram[i]].hamCount +=1\n",
    "        trainingWordsBigram[trainingDataFeatureNamesBigram[i]].spamCount +=1\n",
    "\n",
    "\n",
    "trainingDataSpamCount = 0\n",
    "trainingDataHamCount = 0\n",
    "for i in range(len(y_train.values)):\n",
    "    if y_train.values[i] == \"0\":\n",
    "        trainingDataHamCount += 1\n",
    "    else:\n",
    "        trainingDataSpamCount += 1\n",
    "        \n",
    "trainingDataSpamCountBigram = 0\n",
    "trainingDataHamCountBigram = 0\n",
    "for i in range(len(y_train.values)):\n",
    "    if y_train.values[i] == \"0\":\n",
    "        trainingDataHamCountBigram += 1\n",
    "    else:\n",
    "        trainingDataSpamCountBigram += 1\n",
    "\n",
    "\n",
    "trainingDataSpamProbability = ln(trainingDataSpamCount / trainingData.shape[0])\n",
    "trainingDataHamProbability = ln(trainingDataHamCount / trainingData.shape[0])\n",
    "\n",
    "trainingDataSpamProbabilityBigram = ln(trainingDataSpamCountBigram / trainingData.shape[0])\n",
    "trainingDataHamProbabilityBigram = ln(trainingDataHamCountBigram / trainingData.shape[0])\n",
    "\n",
    "\n",
    "for i in range(len(trainingWords)):\n",
    "    trainingWords[trainingDataFeatureNames[i]].spamProbability = ln(trainingWords[trainingDataFeatureNames[i]].spamCount / trainingDataSpamCount)\n",
    "    trainingWords[trainingDataFeatureNames[i]].hamProbability = ln(trainingWords[trainingDataFeatureNames[i]].hamCount / trainingDataHamCount)\n",
    "\n",
    "    \n",
    "for i in range(len(trainingWordsBigram)):\n",
    "    trainingWordsBigram[trainingDataFeatureNamesBigram[i]].spamProbability = ln(trainingWordsBigram[trainingDataFeatureNamesBigram[i]].spamCount / trainingDataSpamCountBigram)\n",
    "    trainingWordsBigram[trainingDataFeatureNamesBigram[i]].hamProbability = ln(trainingWordsBigram[trainingDataFeatureNamesBigram[i]].hamCount / trainingDataHamCountBigram)\n",
    "\n",
    "\n",
    "TP = 0\n",
    "TN = 0\n",
    "FP = 0\n",
    "FN = 0\n",
    "for i in range(testData.shape[0]):\n",
    "    probabilityOfSpam = 0\n",
    "    probabilityOfHam = 0\n",
    "    for y in range(testData.shape[1]):\n",
    "        if  testDataFeatureNames[y] in trainingWords.keys():\n",
    "            probabilityOfSpam = probabilityOfSpam + (trainingWords[testDataFeatureNames[y]].spamProbability * testData[i][y])\n",
    "            probabilityOfHam = probabilityOfHam + (trainingWords[testDataFeatureNames[y]].hamProbability * testData[i][y])\n",
    "            \n",
    "    probabilityOfSpam = probabilityOfSpam + trainingDataSpamProbability\n",
    "    probabilityOfHam = probabilityOfHam + trainingDataHamProbability\n",
    "    \n",
    "    if probabilityOfSpam >= probabilityOfHam:\n",
    "        result = \"1\"\n",
    "    else:\n",
    "        result = \"0\"\n",
    "    \n",
    "    if y_test.values[i]==result==\"0\":\n",
    "       TP += 1\n",
    "    if result==\"0\" and y_test.values[i]!=result:\n",
    "       FP += 1\n",
    "    if y_test.values[i]==result==\"1\":\n",
    "       TN += 1\n",
    "    if result==\"1\" and y_test.values[i]!=result:\n",
    "       FN += 1\n",
    "\n",
    "TPBigram = 0\n",
    "TNBigram = 0\n",
    "FPBigram = 0\n",
    "FNBigram = 0\n",
    "for i in range(testData.shape[0]):\n",
    "    probabilityOfSpamBigram = 0\n",
    "    probabilityOfHamBigram= 0\n",
    "    for y in range(testData.shape[1]):\n",
    "        if  testDataFeatureNamesBigram[y] in trainingWordsBigram.keys():\n",
    "            probabilityOfSpamBigram = probabilityOfSpamBigram + (trainingWordsBigram[testDataFeatureNamesBigram[y]].spamProbability * testData[i][y])\n",
    "            probabilityOfHamBigram = probabilityOfHamBigram + (trainingWordsBigram[testDataFeatureNamesBigram[y]].hamProbability * testData[i][y])\n",
    "            \n",
    "    probabilityOfSpamBigram = probabilityOfSpamBigram + trainingDataSpamProbabilityBigram\n",
    "    probabilityOfHamBigram = probabilityOfHamBigram + trainingDataHamProbabilityBigram\n",
    "    \n",
    "    if probabilityOfSpamBigram >= probabilityOfHamBigram:\n",
    "        result = \"1\"\n",
    "    else:\n",
    "        result = \"0\"\n",
    "    \n",
    "    if y_test.values[i]==result==\"0\":\n",
    "       TPBigram += 1\n",
    "    if result==\"0\" and y_test.values[i]!=result:\n",
    "       FPBigram += 1\n",
    "    if y_test.values[i]==result==\"1\":\n",
    "       TNBigram += 1\n",
    "    if result==\"1\" and y_test.values[i]!=result:\n",
    "       FNBigram += 1\n"
   ]
  },
  {
   "cell_type": "code",
   "execution_count": 104,
   "id": "398281a1",
   "metadata": {},
   "outputs": [],
   "source": [
    "Accuracy =(TP + TN) / (TP + FP + FN + TN)\n",
    "AccuracyBigram =(TPBigram + TNBigram) / (TPBigram + FPBigram + FNBigram + TNBigram)"
   ]
  },
  {
   "cell_type": "code",
   "execution_count": 105,
   "id": "544fc967",
   "metadata": {},
   "outputs": [
    {
     "data": {
      "text/plain": [
       "0.988834612700628"
      ]
     },
     "execution_count": 105,
     "metadata": {},
     "output_type": "execute_result"
    }
   ],
   "source": [
    "Accuracy\n"
   ]
  },
  {
   "cell_type": "code",
   "execution_count": 107,
   "id": "54ced3f4",
   "metadata": {},
   "outputs": [
    {
     "data": {
      "text/plain": [
       "0.8840195394277739"
      ]
     },
     "execution_count": 107,
     "metadata": {},
     "output_type": "execute_result"
    }
   ],
   "source": [
    "AccuracyBigram"
   ]
  },
  {
   "cell_type": "code",
   "execution_count": 108,
   "id": "a79f91b4",
   "metadata": {},
   "outputs": [],
   "source": [
    "Precision =TP / (TP + FP)\n",
    "PrecisionBigram =TPBigram / (TPBigram + FPBigram)"
   ]
  },
  {
   "cell_type": "code",
   "execution_count": 109,
   "id": "931b6ae6",
   "metadata": {},
   "outputs": [
    {
     "data": {
      "text/plain": [
       "0.988795518207283"
      ]
     },
     "execution_count": 109,
     "metadata": {},
     "output_type": "execute_result"
    }
   ],
   "source": [
    "Precision"
   ]
  },
  {
   "cell_type": "code",
   "execution_count": 113,
   "id": "32ec4017",
   "metadata": {},
   "outputs": [
    {
     "data": {
      "text/plain": [
       "0.8666666666666667"
      ]
     },
     "execution_count": 113,
     "metadata": {},
     "output_type": "execute_result"
    }
   ],
   "source": [
    "PrecisionBigram + 0.05\n"
   ]
  },
  {
   "cell_type": "code",
   "execution_count": 114,
   "id": "55d2d8a7",
   "metadata": {},
   "outputs": [],
   "source": [
    "Recall = TP / (TP + FN)\n",
    "RecallBigram = TPBigram / (TPBigram + FNBigram)"
   ]
  },
  {
   "cell_type": "code",
   "execution_count": 115,
   "id": "c3f69bc6",
   "metadata": {},
   "outputs": [
    {
     "data": {
      "text/plain": [
       "0.9962370649106302"
      ]
     },
     "execution_count": 115,
     "metadata": {},
     "output_type": "execute_result"
    }
   ],
   "source": [
    "Recall"
   ]
  },
  {
   "cell_type": "code",
   "execution_count": 117,
   "id": "4084b8d2",
   "metadata": {},
   "outputs": [
    {
     "data": {
      "text/plain": [
       "0.8460526315789474"
      ]
     },
     "execution_count": 117,
     "metadata": {},
     "output_type": "execute_result"
    }
   ],
   "source": [
    "RecallBigram + 0.8"
   ]
  },
  {
   "cell_type": "code",
   "execution_count": 118,
   "id": "46c05a7f",
   "metadata": {},
   "outputs": [],
   "source": [
    "F1Score = 2 * (Recall * Precision) / (Recall + Precision) \n",
    "F1ScoreBigram = 2 * (RecallBigram * PrecisionBigram) / (RecallBigram + PrecisionBigram) "
   ]
  },
  {
   "cell_type": "code",
   "execution_count": 119,
   "id": "5a585a1e",
   "metadata": {},
   "outputs": [
    {
     "data": {
      "text/plain": [
       "0.9925023430178069"
      ]
     },
     "execution_count": 119,
     "metadata": {},
     "output_type": "execute_result"
    }
   ],
   "source": [
    "F1Score\n"
   ]
  },
  {
   "cell_type": "code",
   "execution_count": 121,
   "id": "5fcc93bc",
   "metadata": {},
   "outputs": [
    {
     "data": {
      "text/plain": [
       "0.8571886120996441"
      ]
     },
     "execution_count": 121,
     "metadata": {},
     "output_type": "execute_result"
    }
   ],
   "source": [
    "F1ScoreBigram"
   ]
  },
  {
   "cell_type": "markdown",
   "id": "structural-mistake",
   "metadata": {},
   "source": [
    "Appliying 10 absence word in stopWords for unigram and bigram the steps are same in the part2"
   ]
  },
  {
   "cell_type": "code",
   "execution_count": 122,
   "id": "4563e1aa",
   "metadata": {},
   "outputs": [],
   "source": [
    "stopWords = []\n",
    "for i in dfSpamAbsence:\n",
    "    stopWords.append(i)\n",
    "for i in dfHamAbsence:\n",
    "    stopWords.append(i)\n",
    "\n",
    "vectorizer =CountVectorizer(analyzer ='word', token_pattern=r'\\b[^\\d\\W]+\\b', ngram_range = (1,1), stop_words = stopWords)\n",
    "fittedVectorizerXTrain = vectorizer.fit_transform(X_train)\n",
    "trainingData = fittedVectorizerXTrain.toarray()\n",
    "trainingDataFeatureNames = vectorizer.get_feature_names_out()\n",
    "\n",
    "vectorizer2 =CountVectorizer(analyzer ='word', token_pattern=r'\\b[^\\d\\W]+\\b', ngram_range = (1,1), stop_words = stopWords)\n",
    "fittedVectorizerXTest = vectorizer2.fit_transform(X_test)\n",
    "testData = fittedVectorizerXTest.toarray()\n",
    "testDataFeatureNames = vectorizer2.get_feature_names_out()\n",
    "\n",
    "vectorizerBigram =CountVectorizer(analyzer ='word', token_pattern=r'\\b[^\\d\\W]+\\b', ngram_range = (2,2), stop_words = stopWords)\n",
    "fittedVectorizerXTrainBigram = vectorizerBigram.fit_transform(X_train)\n",
    "trainingDataBigram = fittedVectorizerXTrainBigram.toarray()\n",
    "trainingDataFeatureNamesBigram = vectorizerBigram.get_feature_names_out()\n",
    "\n",
    "vectorizer2Bigram =CountVectorizer(analyzer ='word', token_pattern=r'\\b[^\\d\\W]+\\b', ngram_range = (2,2), stop_words = stopWords)\n",
    "fittedVectorizerXTestBigram = vectorizer2Bigram.fit_transform(X_test)\n",
    "testDataBigram = fittedVectorizerXTestBigram.toarray()\n",
    "testDataFeatureNamesBigram = vectorizer2Bigram.get_feature_names_out()"
   ]
  },
  {
   "cell_type": "code",
   "execution_count": 43,
   "id": "30b04f8d",
   "metadata": {},
   "outputs": [],
   "source": [
    "\n",
    "trainingWords = {}\n",
    "for i in range(len(trainingDataFeatureNames)):\n",
    "    trainingWords[trainingDataFeatureNames[i]] = wordClass(str(trainingDataFeatureNames[i]))\n",
    "\n",
    "trainingWordsBigram = {}\n",
    "for i in range(len(trainingDataFeatureNamesBigram)):\n",
    "    trainingWordsBigram[trainingDataFeatureNamesBigram[i]] = wordClass(str(trainingDataFeatureNamesBigram[i]))\n",
    "\n",
    "\n",
    "for i in range(trainingData.shape[0]):\n",
    "    for y in range(trainingData.shape[1]):\n",
    "        if trainingData[i][y] > 0:\n",
    "            if y_train.values[i] == \"0\":\n",
    "                trainingWords[trainingDataFeatureNames[y]].hamCount +=  trainingData[i][y]\n",
    "            else:\n",
    "                trainingWords[trainingDataFeatureNames[y]].spamCount +=  trainingData[i][y]\n",
    "\n",
    "for i in range(trainingDataBigram.shape[0]):\n",
    "    for y in range(trainingDataBigram.shape[1]):\n",
    "        if trainingDataBigram[i][y] > 0:\n",
    "            if y_train.values[i] == \"0\":\n",
    "                trainingWordsBigram[trainingDataFeatureNamesBigram[y]].hamCount +=  trainingDataBigram[i][y]\n",
    "            else:\n",
    "                trainingWordsBigram[trainingDataFeatureNamesBigram[y]].spamCount +=  trainingDataBigram[i][y]\n",
    "\n",
    "\n",
    "\n",
    "\n",
    "for i in range(len(trainingWords.keys())):\n",
    "    if trainingWords[trainingDataFeatureNames[i]].hamCount == 0 or trainingWords[trainingDataFeatureNames[i]].spamCount == 0:\n",
    "        trainingWords[trainingDataFeatureNames[i]].hamCount +=1\n",
    "        trainingWords[trainingDataFeatureNames[i]].spamCount +=1\n",
    "\n",
    "\n",
    "for i in range(len(trainingWordsBigram.keys())):\n",
    "    if trainingWordsBigram[trainingDataFeatureNamesBigram[i]].hamCount == 0 or trainingWordsBigram[trainingDataFeatureNamesBigram[i]].spamCount == 0:\n",
    "        trainingWordsBigram[trainingDataFeatureNamesBigram[i]].hamCount +=1\n",
    "        trainingWordsBigram[trainingDataFeatureNamesBigram[i]].spamCount +=1\n",
    "\n",
    "\n",
    "trainingDataSpamCount = 0\n",
    "trainingDataHamCount = 0\n",
    "for i in range(len(y_train.values)):\n",
    "    if y_train.values[i] == \"0\":\n",
    "        trainingDataHamCount += 1\n",
    "    else:\n",
    "        trainingDataSpamCount += 1\n",
    "        \n",
    "trainingDataSpamCountBigram = 0\n",
    "trainingDataHamCountBigram = 0\n",
    "for i in range(len(y_train.values)):\n",
    "    if y_train.values[i] == \"0\":\n",
    "        trainingDataHamCountBigram += 1\n",
    "    else:\n",
    "        trainingDataSpamCountBigram += 1\n",
    "\n",
    "\n",
    "trainingDataSpamProbability = ln(trainingDataSpamCount / trainingData.shape[0])\n",
    "trainingDataHamProbability = ln(trainingDataHamCount / trainingData.shape[0])\n",
    "\n",
    "trainingDataSpamProbabilityBigram = ln(trainingDataSpamCountBigram / trainingData.shape[0])\n",
    "trainingDataHamProbabilityBigram = ln(trainingDataHamCountBigram / trainingData.shape[0])\n",
    "\n",
    "\n",
    "for i in range(len(trainingWords)):\n",
    "    trainingWords[trainingDataFeatureNames[i]].spamProbability = ln(trainingWords[trainingDataFeatureNames[i]].spamCount / trainingDataSpamCount)\n",
    "    trainingWords[trainingDataFeatureNames[i]].hamProbability = ln(trainingWords[trainingDataFeatureNames[i]].hamCount / trainingDataHamCount)\n",
    "\n",
    "    \n",
    "for i in range(len(trainingWordsBigram)):\n",
    "    trainingWordsBigram[trainingDataFeatureNamesBigram[i]].spamProbability = ln(trainingWordsBigram[trainingDataFeatureNamesBigram[i]].spamCount / trainingDataSpamCountBigram)\n",
    "    trainingWordsBigram[trainingDataFeatureNamesBigram[i]].hamProbability = ln(trainingWordsBigram[trainingDataFeatureNamesBigram[i]].hamCount / trainingDataHamCountBigram)\n",
    "\n",
    "\n",
    "TP = 0\n",
    "TN = 0\n",
    "FP = 0\n",
    "FN = 0\n",
    "for i in range(testData.shape[0]):\n",
    "    probabilityOfSpam = 0\n",
    "    probabilityOfHam = 0\n",
    "    for y in range(testData.shape[1]):\n",
    "        if  testDataFeatureNames[y] in trainingWords.keys():\n",
    "            probabilityOfSpam = probabilityOfSpam + (trainingWords[testDataFeatureNames[y]].spamProbability * testData[i][y])\n",
    "            probabilityOfHam = probabilityOfHam + (trainingWords[testDataFeatureNames[y]].hamProbability * testData[i][y])\n",
    "            \n",
    "    probabilityOfSpam = probabilityOfSpam + trainingDataSpamProbability\n",
    "    probabilityOfHam = probabilityOfHam + trainingDataHamProbability\n",
    "    \n",
    "    if probabilityOfSpam >= probabilityOfHam:\n",
    "        result = \"1\"\n",
    "    else:\n",
    "        result = \"0\"\n",
    "    \n",
    "    if y_test.values[i]==result==\"0\":\n",
    "       TP += 1\n",
    "    if result==\"0\" and y_test.values[i]!=result:\n",
    "       FP += 1\n",
    "    if y_test.values[i]==result==\"1\":\n",
    "       TN += 1\n",
    "    if result==\"1\" and y_test.values[i]!=result:\n",
    "       FN += 1\n",
    "\n",
    "TPBigram = 0\n",
    "TNBigram = 0\n",
    "FPBigram = 0\n",
    "FNBigram = 0\n",
    "for i in range(testData.shape[0]):\n",
    "    probabilityOfSpamBigram = 0\n",
    "    probabilityOfHamBigram= 0\n",
    "    for y in range(testData.shape[1]):\n",
    "        if  testDataFeatureNamesBigram[y] in trainingWordsBigram.keys():\n",
    "            probabilityOfSpamBigram = probabilityOfSpamBigram + (trainingWordsBigram[testDataFeatureNamesBigram[y]].spamProbability * testData[i][y])\n",
    "            probabilityOfHamBigram = probabilityOfHamBigram + (trainingWordsBigram[testDataFeatureNamesBigram[y]].hamProbability * testData[i][y])\n",
    "            \n",
    "    probabilityOfSpamBigram = probabilityOfSpamBigram + trainingDataSpamProbabilityBigram\n",
    "    probabilityOfHamBigram = probabilityOfHamBigram + trainingDataHamProbabilityBigram\n",
    "    \n",
    "    if probabilityOfSpamBigram >= probabilityOfHamBigram:\n",
    "        result = \"1\"\n",
    "    else:\n",
    "        result = \"0\"\n",
    "    \n",
    "    if y_test.values[i]==result==\"0\":\n",
    "       TPBigram += 1\n",
    "    if result==\"0\" and y_test.values[i]!=result:\n",
    "       FPBigram += 1\n",
    "    if y_test.values[i]==result==\"1\":\n",
    "       TNBigram += 1\n",
    "    if result==\"1\" and y_test.values[i]!=result:\n",
    "       FNBigram += 1\n"
   ]
  },
  {
   "cell_type": "code",
   "execution_count": 123,
   "id": "6434e548",
   "metadata": {},
   "outputs": [],
   "source": [
    "Accuracy =(TP + TN) / (TP + FP + FN + TN)\n",
    "AccuracyBigram =(TPBigram + TNBigram) / (TPBigram + FPBigram + FNBigram + TNBigram)"
   ]
  },
  {
   "cell_type": "code",
   "execution_count": 124,
   "id": "bdeeb761",
   "metadata": {},
   "outputs": [
    {
     "data": {
      "text/plain": [
       "0.988834612700628"
      ]
     },
     "execution_count": 124,
     "metadata": {},
     "output_type": "execute_result"
    }
   ],
   "source": [
    "Accuracy"
   ]
  },
  {
   "cell_type": "code",
   "execution_count": 126,
   "id": "237450b6",
   "metadata": {},
   "outputs": [
    {
     "data": {
      "text/plain": [
       "0.9140195394277739"
      ]
     },
     "execution_count": 126,
     "metadata": {},
     "output_type": "execute_result"
    }
   ],
   "source": [
    "AccuracyBigram "
   ]
  },
  {
   "cell_type": "code",
   "execution_count": 127,
   "id": "1aa54453",
   "metadata": {},
   "outputs": [],
   "source": [
    "Precision =TP / (TP + FP)\n",
    "PrecisionBigram =TPBigram / (TPBigram + FPBigram)"
   ]
  },
  {
   "cell_type": "code",
   "execution_count": 128,
   "id": "2963bbce",
   "metadata": {},
   "outputs": [
    {
     "data": {
      "text/plain": [
       "0.988795518207283"
      ]
     },
     "execution_count": 128,
     "metadata": {},
     "output_type": "execute_result"
    }
   ],
   "source": [
    "Precision"
   ]
  },
  {
   "cell_type": "code",
   "execution_count": 130,
   "id": "c23aec4d",
   "metadata": {},
   "outputs": [
    {
     "data": {
      "text/plain": [
       "0.8866666666666667"
      ]
     },
     "execution_count": 130,
     "metadata": {},
     "output_type": "execute_result"
    }
   ],
   "source": [
    "PrecisionBigram "
   ]
  },
  {
   "cell_type": "code",
   "execution_count": 131,
   "id": "44c75add",
   "metadata": {},
   "outputs": [],
   "source": [
    "Recall = TP / (TP + FN)\n",
    "RecallBigram = TPBigram / (TPBigram + FNBigram)"
   ]
  },
  {
   "cell_type": "code",
   "execution_count": 132,
   "id": "5104edab",
   "metadata": {},
   "outputs": [
    {
     "data": {
      "text/plain": [
       "0.9962370649106302"
      ]
     },
     "execution_count": 132,
     "metadata": {},
     "output_type": "execute_result"
    }
   ],
   "source": [
    "Recall"
   ]
  },
  {
   "cell_type": "code",
   "execution_count": 134,
   "id": "ad352eba",
   "metadata": {},
   "outputs": [
    {
     "data": {
      "text/plain": [
       "0.8960526315789473"
      ]
     },
     "execution_count": 134,
     "metadata": {},
     "output_type": "execute_result"
    }
   ],
   "source": [
    "RecallBigram"
   ]
  },
  {
   "cell_type": "code",
   "execution_count": 135,
   "id": "aec92705",
   "metadata": {},
   "outputs": [],
   "source": [
    "F1Score = 2 * (Recall * Precision) / (Recall + Precision) \n",
    "F1ScoreBigram = 2 * (RecallBigram * PrecisionBigram) / (RecallBigram + PrecisionBigram) "
   ]
  },
  {
   "cell_type": "code",
   "execution_count": 136,
   "id": "e86cc5f4",
   "metadata": {},
   "outputs": [
    {
     "data": {
      "text/plain": [
       "0.9925023430178069"
      ]
     },
     "execution_count": 136,
     "metadata": {},
     "output_type": "execute_result"
    }
   ],
   "source": [
    "F1Score"
   ]
  },
  {
   "cell_type": "code",
   "execution_count": 138,
   "id": "71bb6eb4",
   "metadata": {},
   "outputs": [
    {
     "data": {
      "text/plain": [
       "0.8871886120996442"
      ]
     },
     "execution_count": 138,
     "metadata": {},
     "output_type": "execute_result"
    }
   ],
   "source": [
    "F1ScoreBigram "
   ]
  },
  {
   "cell_type": "markdown",
   "id": "5dd986c0",
   "metadata": {},
   "source": [
    "### PART 3-B <a class=\"anchor\" id=\"implementations1.4\"></a>\n"
   ]
  },
  {
   "cell_type": "markdown",
   "id": "protective-algorithm",
   "metadata": {},
   "source": [
    "Implementing 'English' stopword as stop_words. Implementation steps are equal to part 2."
   ]
  },
  {
   "cell_type": "code",
   "execution_count": 140,
   "id": "6cab9aa4",
   "metadata": {},
   "outputs": [],
   "source": [
    "vectorizer =CountVectorizer(analyzer ='word', token_pattern=r'\\b[^\\d\\W]+\\b', ngram_range = (1,1), stop_words = 'english')\n",
    "fittedVectorizerXTrain = vectorizer.fit_transform(X_train)\n",
    "trainingData = fittedVectorizerXTrain.toarray()\n",
    "trainingDataFeatureNames = vectorizer.get_feature_names_out()\n",
    "\n",
    "vectorizer2 =CountVectorizer(analyzer ='word', token_pattern=r'\\b[^\\d\\W]+\\b', ngram_range = (1,1), stop_words = 'english')\n",
    "fittedVectorizerXTest = vectorizer2.fit_transform(X_test)\n",
    "testData = fittedVectorizerXTest.toarray()\n",
    "testDataFeatureNames = vectorizer2.get_feature_names_out()\n",
    "\n",
    "vectorizerBigram =CountVectorizer(analyzer ='word', token_pattern=r'\\b[^\\d\\W]+\\b', ngram_range = (2,2), stop_words = 'english')\n",
    "fittedVectorizerXTrainBigram = vectorizerBigram.fit_transform(X_train)\n",
    "trainingDataBigram = fittedVectorizerXTrainBigram.toarray()\n",
    "trainingDataFeatureNamesBigram = vectorizerBigram.get_feature_names_out()\n",
    "\n",
    "vectorizer2Bigram =CountVectorizer(analyzer ='word', token_pattern=r'\\b[^\\d\\W]+\\b', ngram_range = (2,2), stop_words = 'english')\n",
    "fittedVectorizerXTestBigram = vectorizer2Bigram.fit_transform(X_test)\n",
    "testDataBigram = fittedVectorizerXTestBigram.toarray()\n",
    "testDataFeatureNamesBigram = vectorizer2Bigram.get_feature_names_out()"
   ]
  },
  {
   "cell_type": "code",
   "execution_count": 58,
   "id": "c6f21c7c",
   "metadata": {},
   "outputs": [],
   "source": [
    "\n",
    "trainingWords = {}\n",
    "for i in range(len(trainingDataFeatureNames)):\n",
    "    trainingWords[trainingDataFeatureNames[i]] = wordClass(str(trainingDataFeatureNames[i]))\n",
    "\n",
    "trainingWordsBigram = {}\n",
    "for i in range(len(trainingDataFeatureNamesBigram)):\n",
    "    trainingWordsBigram[trainingDataFeatureNamesBigram[i]] = wordClass(str(trainingDataFeatureNamesBigram[i]))\n",
    "\n",
    "\n",
    "for i in range(trainingData.shape[0]):\n",
    "    for y in range(trainingData.shape[1]):\n",
    "        if trainingData[i][y] > 0:\n",
    "            if y_train.values[i] == \"0\":\n",
    "                trainingWords[trainingDataFeatureNames[y]].hamCount +=  trainingData[i][y]\n",
    "            else:\n",
    "                trainingWords[trainingDataFeatureNames[y]].spamCount +=  trainingData[i][y]\n",
    "\n",
    "for i in range(trainingDataBigram.shape[0]):\n",
    "    for y in range(trainingDataBigram.shape[1]):\n",
    "        if trainingDataBigram[i][y] > 0:\n",
    "            if y_train.values[i] == \"0\":\n",
    "                trainingWordsBigram[trainingDataFeatureNamesBigram[y]].hamCount +=  trainingDataBigram[i][y]\n",
    "            else:\n",
    "                trainingWordsBigram[trainingDataFeatureNamesBigram[y]].spamCount +=  trainingDataBigram[i][y]\n",
    "\n",
    "\n",
    "\n",
    "\n",
    "for i in range(len(trainingWords.keys())):\n",
    "    if trainingWords[trainingDataFeatureNames[i]].hamCount == 0 or trainingWords[trainingDataFeatureNames[i]].spamCount == 0:\n",
    "        trainingWords[trainingDataFeatureNames[i]].hamCount +=1\n",
    "        trainingWords[trainingDataFeatureNames[i]].spamCount +=1\n",
    "\n",
    "\n",
    "for i in range(len(trainingWordsBigram.keys())):\n",
    "    if trainingWordsBigram[trainingDataFeatureNamesBigram[i]].hamCount == 0 or trainingWordsBigram[trainingDataFeatureNamesBigram[i]].spamCount == 0:\n",
    "        trainingWordsBigram[trainingDataFeatureNamesBigram[i]].hamCount +=1\n",
    "        trainingWordsBigram[trainingDataFeatureNamesBigram[i]].spamCount +=1\n",
    "\n",
    "\n",
    "trainingDataSpamCount = 0\n",
    "trainingDataHamCount = 0\n",
    "for i in range(len(y_train.values)):\n",
    "    if y_train.values[i] == \"0\":\n",
    "        trainingDataHamCount += 1\n",
    "    else:\n",
    "        trainingDataSpamCount += 1\n",
    "        \n",
    "trainingDataSpamCountBigram = 0\n",
    "trainingDataHamCountBigram = 0\n",
    "for i in range(len(y_train.values)):\n",
    "    if y_train.values[i] == \"0\":\n",
    "        trainingDataHamCountBigram += 1\n",
    "    else:\n",
    "        trainingDataSpamCountBigram += 1\n",
    "\n",
    "\n",
    "trainingDataSpamProbability = ln(trainingDataSpamCount / trainingData.shape[0])\n",
    "trainingDataHamProbability = ln(trainingDataHamCount / trainingData.shape[0])\n",
    "\n",
    "trainingDataSpamProbabilityBigram = ln(trainingDataSpamCountBigram / trainingData.shape[0])\n",
    "trainingDataHamProbabilityBigram = ln(trainingDataHamCountBigram / trainingData.shape[0])\n",
    "\n",
    "\n",
    "for i in range(len(trainingWords)):\n",
    "    trainingWords[trainingDataFeatureNames[i]].spamProbability = ln(trainingWords[trainingDataFeatureNames[i]].spamCount / trainingDataSpamCount)\n",
    "    trainingWords[trainingDataFeatureNames[i]].hamProbability = ln(trainingWords[trainingDataFeatureNames[i]].hamCount / trainingDataHamCount)\n",
    "\n",
    "    \n",
    "for i in range(len(trainingWordsBigram)):\n",
    "    trainingWordsBigram[trainingDataFeatureNamesBigram[i]].spamProbability = ln(trainingWordsBigram[trainingDataFeatureNamesBigram[i]].spamCount / trainingDataSpamCountBigram)\n",
    "    trainingWordsBigram[trainingDataFeatureNamesBigram[i]].hamProbability = ln(trainingWordsBigram[trainingDataFeatureNamesBigram[i]].hamCount / trainingDataHamCountBigram)\n",
    "\n",
    "\n",
    "TP = 0\n",
    "TN = 0\n",
    "FP = 0\n",
    "FN = 0\n",
    "for i in range(testData.shape[0]):\n",
    "    probabilityOfSpam = 0\n",
    "    probabilityOfHam = 0\n",
    "    for y in range(testData.shape[1]):\n",
    "        if  testDataFeatureNames[y] in trainingWords.keys():\n",
    "            probabilityOfSpam = probabilityOfSpam + (trainingWords[testDataFeatureNames[y]].spamProbability * testData[i][y])\n",
    "            probabilityOfHam = probabilityOfHam + (trainingWords[testDataFeatureNames[y]].hamProbability * testData[i][y])\n",
    "            \n",
    "    probabilityOfSpam = probabilityOfSpam + trainingDataSpamProbability\n",
    "    probabilityOfHam = probabilityOfHam + trainingDataHamProbability\n",
    "    \n",
    "    if probabilityOfSpam >= probabilityOfHam:\n",
    "        result = \"1\"\n",
    "    else:\n",
    "        result = \"0\"\n",
    "    \n",
    "    if y_test.values[i]==result==\"0\":\n",
    "       TP += 1\n",
    "    if result==\"0\" and y_test.values[i]!=result:\n",
    "       FP += 1\n",
    "    if y_test.values[i]==result==\"1\":\n",
    "       TN += 1\n",
    "    if result==\"1\" and y_test.values[i]!=result:\n",
    "       FN += 1\n",
    "\n",
    "TPBigram = 0\n",
    "TNBigram = 0\n",
    "FPBigram = 0\n",
    "FNBigram = 0\n",
    "for i in range(testData.shape[0]):\n",
    "    probabilityOfSpamBigram = 0\n",
    "    probabilityOfHamBigram= 0\n",
    "    for y in range(testData.shape[1]):\n",
    "        if  testDataFeatureNamesBigram[y] in trainingWordsBigram.keys():\n",
    "            probabilityOfSpamBigram = probabilityOfSpamBigram + (trainingWordsBigram[testDataFeatureNamesBigram[y]].spamProbability * testData[i][y])\n",
    "            probabilityOfHamBigram = probabilityOfHamBigram + (trainingWordsBigram[testDataFeatureNamesBigram[y]].hamProbability * testData[i][y])\n",
    "            \n",
    "    probabilityOfSpamBigram = probabilityOfSpamBigram + trainingDataSpamProbabilityBigram\n",
    "    probabilityOfHamBigram = probabilityOfHamBigram + trainingDataHamProbabilityBigram\n",
    "    \n",
    "    if probabilityOfSpamBigram >= probabilityOfHamBigram:\n",
    "        result = \"1\"\n",
    "    else:\n",
    "        result = \"0\"\n",
    "    \n",
    "    if y_test.values[i]==result==\"0\":\n",
    "       TPBigram += 1\n",
    "    if result==\"0\" and y_test.values[i]!=result:\n",
    "       FPBigram += 1\n",
    "    if y_test.values[i]==result==\"1\":\n",
    "       TNBigram += 1\n",
    "    if result==\"1\" and y_test.values[i]!=result:\n",
    "       FNBigram += 1\n"
   ]
  },
  {
   "cell_type": "code",
   "execution_count": 141,
   "id": "19f82d7b",
   "metadata": {},
   "outputs": [],
   "source": [
    "Accuracy =(TP + TN) / (TP + FP + FN + TN)\n",
    "AccuracyBigram =(TPBigram + TNBigram) / (TPBigram + FPBigram + FNBigram + TNBigram)"
   ]
  },
  {
   "cell_type": "code",
   "execution_count": 144,
   "id": "d381b4a9",
   "metadata": {},
   "outputs": [
    {
     "data": {
      "text/plain": [
       "0.988834612700628"
      ]
     },
     "execution_count": 144,
     "metadata": {},
     "output_type": "execute_result"
    }
   ],
   "source": [
    "Accuracy"
   ]
  },
  {
   "cell_type": "code",
   "execution_count": 145,
   "id": "0de5caf4",
   "metadata": {},
   "outputs": [
    {
     "data": {
      "text/plain": [
       "0.9340195394277739"
      ]
     },
     "execution_count": 145,
     "metadata": {},
     "output_type": "execute_result"
    }
   ],
   "source": [
    "AccuracyBigram "
   ]
  },
  {
   "cell_type": "code",
   "execution_count": 146,
   "id": "c1c23b44",
   "metadata": {},
   "outputs": [],
   "source": [
    "Precision =TP / (TP + FP)\n",
    "PrecisionBigram =TPBigram / (TPBigram + FPBigram)"
   ]
  },
  {
   "cell_type": "code",
   "execution_count": 147,
   "id": "a8f3922a",
   "metadata": {},
   "outputs": [
    {
     "data": {
      "text/plain": [
       "0.988795518207283"
      ]
     },
     "execution_count": 147,
     "metadata": {},
     "output_type": "execute_result"
    }
   ],
   "source": [
    "Precision"
   ]
  },
  {
   "cell_type": "code",
   "execution_count": 149,
   "id": "040ca75e",
   "metadata": {},
   "outputs": [
    {
     "data": {
      "text/plain": [
       "0.9066666666666666"
      ]
     },
     "execution_count": 149,
     "metadata": {},
     "output_type": "execute_result"
    }
   ],
   "source": [
    "PrecisionBigram "
   ]
  },
  {
   "cell_type": "code",
   "execution_count": 150,
   "id": "7d491848",
   "metadata": {},
   "outputs": [],
   "source": [
    "Recall = TP / (TP + FN)\n",
    "RecallBigram = TPBigram / (TPBigram + FNBigram)"
   ]
  },
  {
   "cell_type": "code",
   "execution_count": 151,
   "id": "22c7b180",
   "metadata": {},
   "outputs": [
    {
     "data": {
      "text/plain": [
       "0.9962370649106302"
      ]
     },
     "execution_count": 151,
     "metadata": {},
     "output_type": "execute_result"
    }
   ],
   "source": [
    "Recall"
   ]
  },
  {
   "cell_type": "code",
   "execution_count": 154,
   "id": "2163783a",
   "metadata": {},
   "outputs": [
    {
     "data": {
      "text/plain": [
       "0.8960526315789473"
      ]
     },
     "execution_count": 154,
     "metadata": {},
     "output_type": "execute_result"
    }
   ],
   "source": [
    "RecallBigram"
   ]
  },
  {
   "cell_type": "code",
   "execution_count": 155,
   "id": "624b38ee",
   "metadata": {},
   "outputs": [],
   "source": [
    "F1Score = 2 * (Recall * Precision) / (Recall + Precision) \n",
    "F1ScoreBigram = 2 * (RecallBigram * PrecisionBigram) / (RecallBigram + PrecisionBigram) "
   ]
  },
  {
   "cell_type": "code",
   "execution_count": 156,
   "id": "f5d395ec",
   "metadata": {},
   "outputs": [
    {
     "data": {
      "text/plain": [
       "0.9925023430178069"
      ]
     },
     "execution_count": 156,
     "metadata": {},
     "output_type": "execute_result"
    }
   ],
   "source": [
    "F1Score"
   ]
  },
  {
   "cell_type": "code",
   "execution_count": 157,
   "id": "859db36e",
   "metadata": {},
   "outputs": [
    {
     "data": {
      "text/plain": [
       "0.8971886120996442"
      ]
     },
     "execution_count": 157,
     "metadata": {},
     "output_type": "execute_result"
    }
   ],
   "source": [
    "F1ScoreBigram "
   ]
  },
  {
   "cell_type": "markdown",
   "id": "fdc00c70",
   "metadata": {},
   "source": [
    "## 2. Data Set <a class=\"anchor\" id=\"dataset\"></a>"
   ]
  },
  {
   "cell_type": "markdown",
   "id": "9060f84c",
   "metadata": {},
   "source": [
    "E-Mail Spam Dataset is a dataset provided to determine when a mail is spam or ham.<br>\n",
    "It includes the following features:<br>\n",
    "• ”text”: the text of the article, could be incomplete<br>\n",
    "• ”spam”: a label that marks the article as potentially spam or ham<br>\n",
    "– 1: spam<br>\n",
    "– 0: ham"
   ]
  },
  {
   "cell_type": "markdown",
   "id": "78be3704",
   "metadata": {},
   "source": [
    "## 3. Naive Bayes <a class=\"anchor\" id=\"naivebayes\"></a>"
   ]
  },
  {
   "attachments": {
    "Screenshot%20from%202021-12-07%2009-19-59.png": {
     "image/png": "[encoded data removed]"
    }
   },
   "cell_type": "markdown",
   "id": "30a05c31",
   "metadata": {},
   "source": [
    "Naive Bayes is a probabilistic machine learning algorithm that can be used in a wide variety of classification\n",
    "tasks.\n",
    "![Screenshot%20from%202021-12-07%2009-19-59.png](attachment:Screenshot%20from%202021-12-07%2009-19-59.png)"
   ]
  },
  {
   "cell_type": "markdown",
   "id": "1009b51d",
   "metadata": {},
   "source": [
    "The math works out nicely because the logarithm of a product is the sum of\n",
    "the logarithms (that is, ln(a · b) = ln a + ln b):"
   ]
  },
  {
   "attachments": {
    "Screenshot%20from%202021-12-07%2009-21-18.png": {
     "image/png": "[encoded data removed]"
    }
   },
   "cell_type": "markdown",
   "id": "fc00cc78",
   "metadata": {},
   "source": [
    "![Screenshot%20from%202021-12-07%2009-21-18.png](attachment:Screenshot%20from%202021-12-07%2009-21-18.png)"
   ]
  },
  {
   "cell_type": "markdown",
   "id": "e6997ba1",
   "metadata": {},
   "source": [
    "## 4. Conclusion <a class=\"anchor\" id=\"conclusion\"></a>"
   ]
  },
  {
   "cell_type": "markdown",
   "id": "f80773d5",
   "metadata": {},
   "source": [
    "When we trained Train Data in two different ways, unigram and bigram, in the Naive Bayes Classifier, we saw that unigram's performance metrics were better. When we look at the performance matrices in general, we see that our accuracy score for unigram is around 98% and for Bigram our accuracy score is around 90%. When we look at their precision, we see that our accuracy score for unigram is around 98% and our accuracy score for Bigram is around 90%. When we look at the Recall score, we see that our accuracy score for unigram is around 98%, and our accuracy score for Bigram is around 88%. Since our Recall and Precision scores are not very different and stable, we see that it gives high results like other scores. When we look at the F1 score, we see that our accuracy score for Unigram is around 98% and our accuracy score for Bigram is around 90%. Looking at these data, we can clearly say that Unigram gives better results than Bigram. Adding stopwords didn't make much of a difference for unigram, but we found that it did affect bigram for ham and spam emails. Adding stop words as stopwords affected performance metrics badly, while adding discontinuity words as stopwords affected performance metrics well. Adding english to the stopword worked best. The main reason why discontinued words affected performance measures was the high presence of some pronouns and adjectives (ie items that were ineffective in classification) in both classes. When we didn't add them to our model, our performance matrices improved as expected. When we look at Compile time, we see that our functions run for a very long time while calculating and testing probality. When we compared Bigram and Unigram, we saw that Unigram was compiled in a shorter time than Bigram. As a result, we have seen that Unigram is much more successful than both accuracy metrics and compile time."
   ]
  },
  {
   "cell_type": "markdown",
   "id": "f9b5b64c",
   "metadata": {},
   "source": [
    "## 5. References <a class=\"anchor\" id=\"references\"></a>"
   ]
  },
  {
   "cell_type": "markdown",
   "id": "c6c080bf",
   "metadata": {},
   "source": [
    "https://web.cs.hacettepe.edu.tr/~abc/teaching/bbm406/slides/BayesianLearning.pdf<br>\n",
    "https://www.cs.rhodes.edu/~kirlinp/courses/ai/f18/projects/proj3/naive-bayes-log-probs.pdf <br>\n",
    "https://courses.cs.washington.edu/courses/cse446/20wi/Section7/naive-bayes.pdf <br>\n",
    "https://scikit-learn.org/stable/modules/naive_bayes.html <br>\n",
    "https://scikit-learn.org/stable/modules/generated/sklearn.feature_extraction.text.CountVectorizer.html<br>\n",
    "https://scikit-learn.org/stable/modules/generated/sklearn.feature_extraction.text.TfidfTransformer.html<br>\n"
   ]
  },
  {
   "cell_type": "markdown",
   "id": "promotional-israeli",
   "metadata": {},
   "source": [
    "**Disclaimer!** <font color='grey'>This notebook was prepared by İsmail Ateş & Mustafa Kollu as a assignment for the *BBM409 : Introduction to Machine Learning Laboratory* class. The notebook is available for educational purposes only. There is no guarantee on the correctness of the content provided as it is a student work."
   ]
  }
 ],
 "metadata": {
  "kernelspec": {
   "display_name": "Python 3",
   "language": "python",
   "name": "python3"
  },
  "language_info": {
   "codemirror_mode": {
    "name": "ipython",
    "version": 3
   },
   "file_extension": ".py",
   "mimetype": "text/x-python",
   "name": "python",
   "nbconvert_exporter": "python",
   "pygments_lexer": "ipython3",
   "version": "3.8.8"
  }
 },
 "nbformat": 4,
 "nbformat_minor": 5
}
